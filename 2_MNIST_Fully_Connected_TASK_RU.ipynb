{
 "cells": [
  {
   "cell_type": "markdown",
   "metadata": {
    "id": "fIOo7906Ebt1"
   },
   "source": [
    "# Классификация MNIST полносвязной нейронной сетью\n",
    "\n",
    "В этом практическом занятии мы рассмотрим задачу классификации изображений полносвязной нейронной сетью.\n",
    "\n",
    "Мы будем решать классическую задачу распознавания рукописных цифр. Для этой задачи созан датасет MNIST. Он содержит в себе изображения (28x28 пикселей) рукописных цифр от 0 до 9 -- т.е. всего 10 классов картинок.\n",
    "\n",
    "Далее посмотрим, как работает такая нейронная сеть для задачи распознавания изображений в датасетах CIFAR, которые являются набором реальных изображений, уменьшенных до размера 32x32 пикселей."
   ]
  },
  {
   "cell_type": "markdown",
   "metadata": {
    "id": "fq7VxTBfHkhM"
   },
   "source": [
    "# Зафиксируйте генераторы случайных чисел\n",
    "\n",
    "Генераторы случайных чисел генерируют различные наборы случайных чисел от запуска к запуску по умолчанию. Поскольку случайные числа используются для того, чтобы инициализировать веса сети и для того, чтобы выбирать примеры из обучающей выборки, то от запуска к запуску получившиеся нейронные сети будут отличаться.\n",
    "\n",
    "Для того, чтобы решить эту проблему, необходимо инициализировать генераторы случайных чисел ```seed```-ами. Это делается следующими командами: ```random.seed``` для библиотеки ```random```, ```np.random.seed``` для библиотеки ```numpy```. Для pytirch же потребуется несколько команд:\n",
    "\n",
    "```\n",
    "torch.manual_seed_all\n",
    "torch.cuda.manual_seed_all\n",
    "```\n",
    "\n",
    "Также потребуется переключить ```cuda``` в детерминированный режим:\n",
    "\n",
    "```\n",
    "torch.backends.cudnn.deterministic = True\n",
    "```\n"
   ]
  },
  {
   "cell_type": "code",
   "execution_count": 1,
   "metadata": {
    "id": "DWr6cvb9pS3J"
   },
   "outputs": [],
   "source": [
    "import torch\n",
    "import random\n",
    "import numpy as np\n",
    "\n",
    "random.seed(0)\n",
    "np.random.seed(0)\n",
    "torch.manual_seed(0)\n",
    "torch.cuda.manual_seed_all(0)\n",
    "torch.backends.cudnn.deterministic = True"
   ]
  },
  {
   "cell_type": "markdown",
   "metadata": {
    "id": "Sr9W-Bg-hCjz"
   },
   "source": [
    "# Загрузите данные тренировочной и валидационной частей MNIST в память\n",
    "\n",
    "Для этого используйте класс ```torchvision.datasets.MNIST```. Обратите внимание, что тренировочная и тестовая части задаются параметром ```train```."
   ]
  },
  {
   "cell_type": "code",
   "execution_count": 2,
   "metadata": {
    "id": "_dg-FUvwGN-d"
   },
   "outputs": [],
   "source": [
    "import torchvision\n",
    "from torchvision.datasets import MNIST"
   ]
  },
  {
   "cell_type": "code",
   "execution_count": 3,
   "metadata": {
    "colab": {
     "base_uri": "https://localhost:8080/",
     "height": 471,
     "referenced_widgets": [
      "40a02a97b8d249e2afd01ae22a46ff5d",
      "6ea87d598c254ae4a69727419bcaaaa9",
      "af46abe1e35f493ea9bcf760ae517981",
      "9ce96438de614d3095b473d4f581e548",
      "781a041806fd4926a61fc10b984a217a",
      "6105d07430b744b396dadef520382ee8",
      "28165ee9d71349d18b31573dd0db4871",
      "3ffb267a8e0a4b2d9b42cef5a9f1aecc",
      "d409959ce2de4da6b5208308df147c36",
      "a73adfc139c44df5b7ee645e5dab6598",
      "61da5719d6e44db2961db0871b52a520",
      "4c557714b2ff4ff89cd1549833225599",
      "2bc739d588c44504a6363b0c2b126534",
      "5631f9daba63496ab0adaf157b574587",
      "a31c26563f57498f8b02d54c398927dd",
      "bb112bb10fe54242adf0f1e86bbff377",
      "4da838a7d0c147be8341916641a57852",
      "db5c47da72b14a89bc5888561b1c1378",
      "29a92c3c8ebe4a9f93739858b6b886d5",
      "37d7387c2cc2407587ec7040590a051b",
      "eb0f08c4179f4a3aa7076e68722389d1",
      "0ea68f74683b4eee8f222adf4f861a76",
      "6dc85ffa03de4907be743de94cdce349",
      "5aaab2fa61a845c9a3952a7b917ac7bc",
      "dcb0bc059d374d4a9ea260a69abe5156",
      "914e384ece254d5fb6c53fa0f818d8f6",
      "ad94e46a59394139ada81a27e29d49c0",
      "8ed56a64626b4eb9af907ce7c721630b",
      "3bac3fe851c34a4dbe94ecb4580745fa",
      "9731033f71f44bd7b44703c62e6bbd38",
      "3ad04b4354544e0ab3dbe22e5842be64",
      "2d023aafa5bb4a94b06330754668397c",
      "6fe6b583d84d4d3aa1d0908a4e063f1a",
      "b52a7145cecc49eb935abb4ce7d23da7",
      "b63527a2ce6e4492bb48c788ad57442a",
      "32f26bde2daf40378a3f30aba08f090e",
      "dd28280894a0468a8576ee905b1a54a2",
      "bf3d293973a747b89ebe721e15bc7190",
      "71001c3bb6a34f3d9a9566004100bbff",
      "cee438dd25a04011b8f5cf5774b3d9db",
      "f52e9975da5d4fab8eaf310a6509d69a",
      "ea462623a96545b5a8b7f9c94dd2f3e7",
      "b948f945473d40788b560ed6df6b6d3f",
      "75ea03bc162b4fabb049556d3b5c4344"
     ]
    },
    "id": "MqGQWTDIpS3R",
    "outputId": "83af92dd-24c8-42ac-e2f0-b5a7bfe1a9d4"
   },
   "outputs": [],
   "source": [
    "root=\"./mnist_dataset\"\n",
    "MNIST_train = torchvision.datasets.MNIST(root, train=True, download=True)\n",
    "MNIST_test = torchvision.datasets.MNIST(root, train=False, download=True)"
   ]
  },
  {
   "cell_type": "markdown",
   "metadata": {
    "id": "Tmd5j25vi0ag"
   },
   "source": [
    "# Проверяем, что все работает"
   ]
  },
  {
   "cell_type": "code",
   "execution_count": 4,
   "metadata": {
    "colab": {
     "base_uri": "https://localhost:8080/"
    },
    "id": "vv_Lz7PYpS3U",
    "outputId": "54e6bc07-7029-4d87-f945-0e4dc623de1c"
   },
   "outputs": [
    {
     "name": "stdout",
     "output_type": "stream",
     "text": [
      "torch.Size([60000, 28, 28]) torch.Size([60000]) <- train dataset X and y\n",
      "torch.Size([10000, 28, 28]) torch.Size([10000]) <- test dataset X and y\n",
      "torch.uint8 torch.int64 <- training data type\n"
     ]
    },
    {
     "name": "stderr",
     "output_type": "stream",
     "text": [
      "C:\\Users\\21218264\\AppData\\Roaming\\Python\\Python310\\site-packages\\torchvision\\datasets\\mnist.py:75: UserWarning: train_data has been renamed data\n",
      "  warnings.warn(\"train_data has been renamed data\")\n",
      "C:\\Users\\21218264\\AppData\\Roaming\\Python\\Python310\\site-packages\\torchvision\\datasets\\mnist.py:65: UserWarning: train_labels has been renamed targets\n",
      "  warnings.warn(\"train_labels has been renamed targets\")\n",
      "C:\\Users\\21218264\\AppData\\Roaming\\Python\\Python310\\site-packages\\torchvision\\datasets\\mnist.py:80: UserWarning: test_data has been renamed data\n",
      "  warnings.warn(\"test_data has been renamed data\")\n",
      "C:\\Users\\21218264\\AppData\\Roaming\\Python\\Python310\\site-packages\\torchvision\\datasets\\mnist.py:70: UserWarning: test_labels has been renamed targets\n",
      "  warnings.warn(\"test_labels has been renamed targets\")\n"
     ]
    }
   ],
   "source": [
    "X_train = MNIST_train.train_data\n",
    "y_train = MNIST_train.train_labels\n",
    "X_test = MNIST_test.test_data\n",
    "y_test = MNIST_test.test_labels\n",
    "\n",
    "print(X_train.shape, y_train.shape, '<- train dataset X and y')\n",
    "print(X_test.shape, y_test.shape, '<- test dataset X and y')\n",
    "\n",
    "print(X_train.dtype, y_train.dtype, '<- training data type')"
   ]
  },
  {
   "cell_type": "markdown",
   "metadata": {
    "id": "8fLL9uxtjl2R"
   },
   "source": [
    "# Приводим форматы\n",
    "\n",
    "PyTorch по умолчанию работает с тензорами, состоящими из float значений. Соответственно, необходимо привести тензоры с данными к float при помощи метода тензора ```.float()```. В качестве лосс-функции мы будем использовать ```torch.nn.CrossEntropy```, которая принимает на вход предсказания нейронной сети и тензор из номеров верных классов. Этот тензор должен быть в формте ```long```. Поскольку по умолчанию ```y``` в датасете уже в формате ```long```, то ничего делать с метками уже не нужно."
   ]
  },
  {
   "cell_type": "code",
   "execution_count": 5,
   "metadata": {
    "id": "_yTaVOrPvap6"
   },
   "outputs": [],
   "source": [
    "X_train=X_train.float()\n",
    "X_test=X_test.float()"
   ]
  },
  {
   "cell_type": "markdown",
   "metadata": {
    "id": "KOYy5VW7l2JH"
   },
   "source": [
    "# Посмотрим на данные\n",
    "\n",
    "Визуально оценим данные, которыми мы располагаем. Проверим, что разметка соответствует тому, что содержится на картинке. Для этого отобразим изображение при помощи ```plt.imshow``` и посмотрим, какой лейбл соответствует этому изображению.\n",
    "\n",
    "Обратите внимание на этот код: в следующих заданиях делать отображения нужно будет самостоятельно."
   ]
  },
  {
   "cell_type": "code",
   "execution_count": 6,
   "metadata": {
    "colab": {
     "base_uri": "https://localhost:8080/",
     "height": 282
    },
    "id": "Z1tFXMwJpS3e",
    "outputId": "340facc6-a96a-4e48-b89c-c508213ddbd6"
   },
   "outputs": [
    {
     "data": {
      "image/png": "[encoded data removed]",
      "text/plain": [
       "<Figure size 640x480 with 1 Axes>"
      ]
     },
     "metadata": {},
     "output_type": "display_data"
    },
    {
     "name": "stdout",
     "output_type": "stream",
     "text": [
      "tensor(2)\n"
     ]
    }
   ],
   "source": [
    "import matplotlib.pyplot as plt\n",
    "\n",
    "index = 5\n",
    "\n",
    "plt.imshow(X_train[index, :, :])\n",
    "plt.show()\n",
    "print(y_train[index])"
   ]
  },
  {
   "cell_type": "markdown",
   "metadata": {
    "id": "QjHFPMEmpBcP"
   },
   "source": [
    "# Подготовим нейронную сеть\n",
    "\n",
    "Для того, чтобы сделать нейронную сеть, которую будем обучать, необходимо сделать класс, унаследованный от ```pytorch.nn.Module```, в котором будут две функции:\n",
    "\n",
    "* ```__init__(self, n_hidden_neurons)``` -- конструктор, в котором определим модули, которые будем использовать в нейронной сети. Перед обьявлением модулей, необходимо инициализировать родительский класс при помощи ```super().__init__()```, после чего можно будет обьявлять необходимые модули\n",
    "Нейронная сетьв нашем случае будет состоять всего из трех модулей. Схематически нейронную сеть можно представить следующим образом:\n",
    "```\n",
    "torch.nn.Linear 28*28 -> n_hidden_neurons\n",
    "torch.nn.LeakyReLU\n",
    "torch.nn.Linear n_hidden_heurons -> 10\n",
    "```\n",
    "\n",
    "* ```forward(self, x)``` -- прямой проход сети. Здесь необходимо из ```x``` получить прогнозы. ```x``` -- это батч из картинок, преобразованных в вектор. Батч -- тензор размера ```N x 784```, где ```N``` -- число изображений в батче, ```784``` -- число пикселей в черно-белом изображении ```28 x 28```. Примените ко входным данным ```x``` метод ```reshape([-1, 784])``` (```-1``` означает, что второе измерение должно быть размера 784, а первое -- чему получится). Затем последовательно примените модули, обьявленные в конструкторе и верните полученный сигнал."
   ]
  },
  {
   "cell_type": "code",
   "execution_count": 7,
   "metadata": {
    "id": "k7l65slppS3l"
   },
   "outputs": [],
   "source": [
    "class MNISTNet(torch.nn.Module):\n",
    "    def __init__(self, n_hidden_neurons):\n",
    "        super().__init__()\n",
    "        self.Linear = torch.nn.Linear(28*28, n_hidden_neurons)\n",
    "        self.LeakyReLu = torch.nn.LeakyReLU()\n",
    "        self.Linear2 = torch.nn.Linear(n_hidden_neurons, 10)\n",
    "\n",
    "    def forward(self, x):\n",
    "        x = x.reshape([-1, 784])\n",
    "        x = self.Linear(x)\n",
    "        x = self.LeakyReLu(x)\n",
    "        res = self.Linear2(x)\n",
    "        return res\n"
   ]
  },
  {
   "cell_type": "markdown",
   "metadata": {
    "id": "Yrnt4XH2w6zm"
   },
   "source": [
    "# Проверим, что все сделано верно"
   ]
  },
  {
   "cell_type": "code",
   "execution_count": 8,
   "metadata": {
    "colab": {
     "base_uri": "https://localhost:8080/"
    },
    "id": "-V1BqtLCw5rW",
    "outputId": "3de9bcbe-b741-4277-9ab2-4d19fe9ba611"
   },
   "outputs": [
    {
     "name": "stdout",
     "output_type": "stream",
     "text": [
      "torch.Size([10, 10]) <- shape of predictions\n"
     ]
    }
   ],
   "source": [
    "mnist_net = MNISTNet(100)\n",
    "res = mnist_net(torch.zeros(10, 28*28))\n",
    "assert res.shape[0] == 10\n",
    "print(res.shape, '<- shape of predictions')"
   ]
  },
  {
   "cell_type": "markdown",
   "metadata": {
    "id": "6EdyxZw7xUDX"
   },
   "source": [
    "# Зададим лосс-функцию и оптимизатор\n",
    "\n",
    "В качестве лосс-функции будем использовать ```torch.nn.CrossEntropyLoss```\n",
    "\n",
    "В качестве оптимизатора будем использовать ```torch.nn.Adam```\n",
    "\n",
    "Оптимизатор должен оптимизировать все параметры нейронной сети (ссылку на которые можно получить при помощи метода ```mnist_net.parameters()```) и скорость обучения необходимо выставить равной $10^{-3}$."
   ]
  },
  {
   "cell_type": "code",
   "execution_count": 9,
   "metadata": {
    "id": "00_2j2igpS3o"
   },
   "outputs": [],
   "source": [
    "loss = torch.nn.CrossEntropyLoss()\n",
    "optimizer = torch.optim.Adam(mnist_net.parameters(), lr=1.0e-3)"
   ]
  },
  {
   "cell_type": "markdown",
   "metadata": {
    "id": "gB0gV4qS0GZb"
   },
   "source": [
    "# Сделаем процесс обучения\n",
    "\n",
    "Все готово: оптимизатор, лосс-функция, нейронная сеть. Осталось обучить нейронную сеть.\n",
    "\n",
    "Для этого нужно создать цикл обучения.\n",
    "\n",
    "Цикл обучения обычно состоит из двух вложенных циклов: внутренний цикл обеспечивает проход по всем примерам из обучающей или тестовой выборки. Один такой проход называется эпохой.\n",
    "\n",
    "Внешний же цикл обеспечивает повторение эпох.\n",
    "\n",
    "# Инструкции по построению цикла обучения\n",
    "\n",
    "* Сделайте внешний цикл из заранее заданного количества итераций, в котором:\n",
    "  * Сгененрируйте случайный порядок следования обучающих примеров при помощи метода ```order = np.random.permutation(...)```\n",
    "  * Сделайте внутренний цикл по обучающим примерам. Цикл должен терироваться по ```order``` с интервалом ```batch_size``` (```range(0, len(order), batch_size)```), в котором:\n",
    "    * Получите индексы обучающих примеров для текущего шага, сделав слайсинг ```indice = order[start_index:start_index+batch_size]```.\n",
    "    * Далее из обучающих примеров и лейблов нужно выбрать соответствующие примеры и лейблы при помощи индексации (```X_batch = X[indice]```).\n",
    "    * Теперь мы готовы к тому, чтобы получить предсказания нейронной сети. Если вы используете батч-нормализации, то здесь нужно переключить сеть в тренировочный режим (```net.train()```)\n",
    "    * Получите предсказания для полученного батча при помощи нейронной сети (```batch_preds = net(X_batch)```).\n",
    "    * Рассчитайте значение лосс функции исходя из предсказаний и лейблов батча\n",
    "    * Обнулите градиенты, накопленные в узлах нейронной сети, которые будут оптимизироваться (```optimizer.zero_grad()```).\n",
    "    * Рассчитайте градиенты лосс-функции по параметрам нейронной сети ```loss.backward()```\n",
    "    * Сделайте шаг оптимизатора (```optimizer.step()```).\n",
    "    * Если вы используете батч-нормализации или DropOut, переключите нейронную сеть в валидационный режим (```net.valid()```).\n",
    "\n",
    "  * Рассчитайте предсказания для тестовой выборки (в нашем случае это можно сделать одним батчем, ```test_preds = net(X_test)```)\n",
    "  * Рассчитайте точность для тестовой выборки.\n",
    "  * Рассчитайте лосс-функцию для тестовой выборки.\n",
    "  * Добавьте рассчитанную точность в историю точности и лосс в историю лоссов\n"
   ]
  },
  {
   "cell_type": "code",
   "execution_count": 10,
   "metadata": {
    "id": "wZtqiGvfpS3r"
   },
   "outputs": [],
   "source": [
    "batch_size = 100\n",
    "n_epochs = 100\n",
    "\n",
    "train_loss_history = []\n",
    "train_accuracy_history = []\n",
    "\n",
    "test_accuracy_history = []\n",
    "test_loss_history = []\n",
    "\n",
    "for epoch in range(n_epochs):\n",
    "    mnist_net.train() #aboba\n",
    "    order = np.random.permutation(len(X_train))\n",
    "    correct = 0\n",
    "    samples = 0\n",
    "    loss1 = 0.0\n",
    "    loss_test = 0.0\n",
    "\n",
    "    for item in range(0, len(order), batch_size):\n",
    "        indice = order [item:item+batch_size]\n",
    "        X_batch=X_train[indice]\n",
    "        #mnist_net.train()        \n",
    "        batch_preds = mnist_net(X_batch)\n",
    "        loss1 = loss(batch_preds, y_train[indice])\n",
    "        optimizer.zero_grad()\n",
    "        loss1.backward()\n",
    "        optimizer.step()\n",
    "        X_pred = mnist_net(X_batch)\n",
    "        _, train_predicted = torch.max(X_pred, 1)\n",
    "        #mnist_net.eval()\n",
    "        correct+=torch.sum(train_predicted == y_train[indice])\n",
    "        samples+=y_train[indice].size(0)\n",
    "\n",
    "    accuracy = 100 * correct/samples\n",
    "    train_accuracy_history.append(accuracy)\n",
    "    \n",
    "    test_preds = mnist_net(X_test)\n",
    "    train_loss_history.append(loss1.detach().numpy())\n",
    "\n",
    "    loss_test = loss(test_preds, y_test)\n",
    "    test_loss_history.append(loss_test.detach().numpy())\n",
    "\n",
    "    test_acc = torch.sum(torch.argmax(test_preds, dim=1) == y_test)\n",
    "\n",
    "    test_accuracy_history.append(100*test_acc / len(y_test))\n",
    "    \n",
    "\n"
   ]
  },
  {
   "cell_type": "markdown",
   "metadata": {
    "id": "-pzbNWXGTFa7"
   },
   "source": [
    "# Построим график прогресса обучения"
   ]
  },
  {
   "cell_type": "code",
   "execution_count": 11,
   "metadata": {
    "colab": {
     "base_uri": "https://localhost:8080/"
    },
    "id": "FJfg3GujO0xM",
    "outputId": "769e4cca-8779-473e-99d7-efa1c8e21404"
   },
   "outputs": [
    {
     "data": {
      "text/plain": [
       "[<matplotlib.lines.Line2D at 0x1cd1815a2c0>]"
      ]
     },
     "execution_count": 11,
     "metadata": {},
     "output_type": "execute_result"
    },
    {
     "data": {
      "image/png": "[encoded data removed]",
      "text/plain": [
       "<Figure size 640x480 with 1 Axes>"
      ]
     },
     "metadata": {},
     "output_type": "display_data"
    }
   ],
   "source": [
    "plt.plot(train_loss_history)\n",
    "#plt.plot(test_loss_history)"
   ]
  },
  {
   "cell_type": "code",
   "execution_count": 12,
   "metadata": {},
   "outputs": [
    {
     "data": {
      "text/plain": [
       "[<matplotlib.lines.Line2D at 0x1cd18316aa0>]"
      ]
     },
     "execution_count": 12,
     "metadata": {},
     "output_type": "execute_result"
    },
    {
     "data": {
      "image/png": "[encoded data removed]",
      "text/plain": [
       "<Figure size 640x480 with 1 Axes>"
      ]
     },
     "metadata": {},
     "output_type": "display_data"
    }
   ],
   "source": [
    "plt.plot(test_loss_history)"
   ]
  },
  {
   "cell_type": "code",
   "execution_count": 13,
   "metadata": {
    "colab": {
     "base_uri": "https://localhost:8080/"
    },
    "id": "H1YXGVv6YATf",
    "outputId": "8ee41b51-e61a-4bb1-d86c-1e684283b6dd"
   },
   "outputs": [
    {
     "data": {
      "text/plain": [
       "[<matplotlib.lines.Line2D at 0x1cd18383e20>]"
      ]
     },
     "execution_count": 13,
     "metadata": {},
     "output_type": "execute_result"
    },
    {
     "data": {
      "image/png": "[encoded data removed]",
      "text/plain": [
       "<Figure size 640x480 with 1 Axes>"
      ]
     },
     "metadata": {},
     "output_type": "display_data"
    }
   ],
   "source": [
    "plt.plot(train_accuracy_history)\n"
   ]
  },
  {
   "cell_type": "code",
   "execution_count": 14,
   "metadata": {},
   "outputs": [
    {
     "data": {
      "text/plain": [
       "[<matplotlib.lines.Line2D at 0x1cd18414d60>]"
      ]
     },
     "execution_count": 14,
     "metadata": {},
     "output_type": "execute_result"
    },
    {
     "data": {
      "image/png": "[encoded data removed]",
      "text/plain": [
       "<Figure size 640x480 with 1 Axes>"
      ]
     },
     "metadata": {},
     "output_type": "display_data"
    }
   ],
   "source": [
    "plt.plot(test_accuracy_history)"
   ]
  },
  {
   "cell_type": "markdown",
   "metadata": {
    "id": "bAmVWtqpTQ0R"
   },
   "source": [
    "# Послесловие\n",
    "\n",
    "Вы сделали ваш первый цикл обучения самостоятельно. Он довольно простой и лаконичный, занимает не больше 100 строк и его достаточно просто переписать. В этот цикл обучения можно добавлять все больше и больше функционала. В результате цикл обучения станет очень большим и нечитаемым, логику внутри цикла будет достаточно непросто понять.\n",
    "\n",
    "Для того, чтобы не задумываться о циклах обучения, были разработаны библиотеки для упрощения обучения нейронных сетей такие, как PyTorch Lightning. Мы познакомимся с PyTorch Lightning в следующем практическом задании."
   ]
  }
 ],
 "metadata": {
  "accelerator": "GPU",
  "colab": {
   "collapsed_sections": [],
   "name": "1 \"Практика_1_MNIST_полносвязной_сетью_PyTorch.ipynb\"",
   "provenance": []
  },
  "kernelspec": {
   "display_name": "Python 3 (ipykernel)",
   "language": "python",
   "name": "python3"
  },
  "language_info": {
   "codemirror_mode": {
    "name": "ipython",
    "version": 3
   },
   "file_extension": ".py",
   "mimetype": "text/x-python",
   "name": "python",
   "nbconvert_exporter": "python",
   "pygments_lexer": "ipython3",
   "version": "3.10.2"
  },
  "widgets": {
   "application/vnd.jupyter.widget-state+json": {
    "0ea68f74683b4eee8f222adf4f861a76": {
     "model_module": "@jupyter-widgets/base",
     "model_module_version": "1.2.0",
     "model_name": "LayoutModel",
     "state": {
      "_model_module": "@jupyter-widgets/base",
      "_model_module_version": "1.2.0",
      "_model_name": "LayoutModel",
      "_view_count": null,
      "_view_module": "@jupyter-widgets/base",
      "_view_module_version": "1.2.0",
      "_view_name": "LayoutView",
      "align_content": null,
      "align_items": null,
      "align_self": null,
      "border": null,
      "bottom": null,
      "display": null,
      "flex": null,
      "flex_flow": null,
      "grid_area": null,
      "grid_auto_columns": null,
      "grid_auto_flow": null,
      "grid_auto_rows": null,
      "grid_column": null,
      "grid_gap": null,
      "grid_row": null,
      "grid_template_areas": null,
      "grid_template_columns": null,
      "grid_template_rows": null,
      "height": null,
      "justify_content": null,
      "justify_items": null,
      "left": null,
      "margin": null,
      "max_height": null,
      "max_width": null,
      "min_height": null,
      "min_width": null,
      "object_fit": null,
      "object_position": null,
      "order": null,
      "overflow": null,
      "overflow_x": null,
      "overflow_y": null,
      "padding": null,
      "right": null,
      "top": null,
      "visibility": null,
      "width": null
     }
    },
    "28165ee9d71349d18b31573dd0db4871": {
     "model_module": "@jupyter-widgets/base",
     "model_module_version": "1.2.0",
     "model_name": "LayoutModel",
     "state": {
      "_model_module": "@jupyter-widgets/base",
      "_model_module_version": "1.2.0",
      "_model_name": "LayoutModel",
      "_view_count": null,
      "_view_module": "@jupyter-widgets/base",
      "_view_module_version": "1.2.0",
      "_view_name": "LayoutView",
      "align_content": null,
      "align_items": null,
      "align_self": null,
      "border": null,
      "bottom": null,
      "display": null,
      "flex": null,
      "flex_flow": null,
      "grid_area": null,
      "grid_auto_columns": null,
      "grid_auto_flow": null,
      "grid_auto_rows": null,
      "grid_column": null,
      "grid_gap": null,
      "grid_row": null,
      "grid_template_areas": null,
      "grid_template_columns": null,
      "grid_template_rows": null,
      "height": null,
      "justify_content": null,
      "justify_items": null,
      "left": null,
      "margin": null,
      "max_height": null,
      "max_width": null,
      "min_height": null,
      "min_width": null,
      "object_fit": null,
      "object_position": null,
      "order": null,
      "overflow": null,
      "overflow_x": null,
      "overflow_y": null,
      "padding": null,
      "right": null,
      "top": null,
      "visibility": null,
      "width": null
     }
    },
    "29a92c3c8ebe4a9f93739858b6b886d5": {
     "model_module": "@jupyter-widgets/controls",
     "model_module_version": "1.5.0",
     "model_name": "ProgressStyleModel",
     "state": {
      "_model_module": "@jupyter-widgets/controls",
      "_model_module_version": "1.5.0",
      "_model_name": "ProgressStyleModel",
      "_view_count": null,
      "_view_module": "@jupyter-widgets/base",
      "_view_module_version": "1.2.0",
      "_view_name": "StyleView",
      "bar_color": null,
      "description_width": ""
     }
    },
    "2bc739d588c44504a6363b0c2b126534": {
     "model_module": "@jupyter-widgets/base",
     "model_module_version": "1.2.0",
     "model_name": "LayoutModel",
     "state": {
      "_model_module": "@jupyter-widgets/base",
      "_model_module_version": "1.2.0",
      "_model_name": "LayoutModel",
      "_view_count": null,
      "_view_module": "@jupyter-widgets/base",
      "_view_module_version": "1.2.0",
      "_view_name": "LayoutView",
      "align_content": null,
      "align_items": null,
      "align_self": null,
      "border": null,
      "bottom": null,
      "display": null,
      "flex": null,
      "flex_flow": null,
      "grid_area": null,
      "grid_auto_columns": null,
      "grid_auto_flow": null,
      "grid_auto_rows": null,
      "grid_column": null,
      "grid_gap": null,
      "grid_row": null,
      "grid_template_areas": null,
      "grid_template_columns": null,
      "grid_template_rows": null,
      "height": null,
      "justify_content": null,
      "justify_items": null,
      "left": null,
      "margin": null,
      "max_height": null,
      "max_width": null,
      "min_height": null,
      "min_width": null,
      "object_fit": null,
      "object_position": null,
      "order": null,
      "overflow": null,
      "overflow_x": null,
      "overflow_y": null,
      "padding": null,
      "right": null,
      "top": null,
      "visibility": null,
      "width": null
     }
    },
    "2d023aafa5bb4a94b06330754668397c": {
     "model_module": "@jupyter-widgets/controls",
     "model_module_version": "1.5.0",
     "model_name": "DescriptionStyleModel",
     "state": {
      "_model_module": "@jupyter-widgets/controls",
      "_model_module_version": "1.5.0",
      "_model_name": "DescriptionStyleModel",
      "_view_count": null,
      "_view_module": "@jupyter-widgets/base",
      "_view_module_version": "1.2.0",
      "_view_name": "StyleView",
      "description_width": ""
     }
    },
    "32f26bde2daf40378a3f30aba08f090e": {
     "model_module": "@jupyter-widgets/controls",
     "model_module_version": "1.5.0",
     "model_name": "HTMLModel",
     "state": {
      "_dom_classes": [],
      "_model_module": "@jupyter-widgets/controls",
      "_model_module_version": "1.5.0",
      "_model_name": "HTMLModel",
      "_view_count": null,
      "_view_module": "@jupyter-widgets/controls",
      "_view_module_version": "1.5.0",
      "_view_name": "HTMLView",
      "description": "",
      "description_tooltip": null,
      "layout": "IPY_MODEL_cee438dd25a04011b8f5cf5774b3d9db",
      "placeholder": "​",
      "style": "IPY_MODEL_71001c3bb6a34f3d9a9566004100bbff",
      "value": ""
     }
    },
    "37d7387c2cc2407587ec7040590a051b": {
     "model_module": "@jupyter-widgets/base",
     "model_module_version": "1.2.0",
     "model_name": "LayoutModel",
     "state": {
      "_model_module": "@jupyter-widgets/base",
      "_model_module_version": "1.2.0",
      "_model_name": "LayoutModel",
      "_view_count": null,
      "_view_module": "@jupyter-widgets/base",
      "_view_module_version": "1.2.0",
      "_view_name": "LayoutView",
      "align_content": null,
      "align_items": null,
      "align_self": null,
      "border": null,
      "bottom": null,
      "display": null,
      "flex": null,
      "flex_flow": null,
      "grid_area": null,
      "grid_auto_columns": null,
      "grid_auto_flow": null,
      "grid_auto_rows": null,
      "grid_column": null,
      "grid_gap": null,
      "grid_row": null,
      "grid_template_areas": null,
      "grid_template_columns": null,
      "grid_template_rows": null,
      "height": null,
      "justify_content": null,
      "justify_items": null,
      "left": null,
      "margin": null,
      "max_height": null,
      "max_width": null,
      "min_height": null,
      "min_width": null,
      "object_fit": null,
      "object_position": null,
      "order": null,
      "overflow": null,
      "overflow_x": null,
      "overflow_y": null,
      "padding": null,
      "right": null,
      "top": null,
      "visibility": null,
      "width": null
     }
    },
    "3ad04b4354544e0ab3dbe22e5842be64": {
     "model_module": "@jupyter-widgets/base",
     "model_module_version": "1.2.0",
     "model_name": "LayoutModel",
     "state": {
      "_model_module": "@jupyter-widgets/base",
      "_model_module_version": "1.2.0",
      "_model_name": "LayoutModel",
      "_view_count": null,
      "_view_module": "@jupyter-widgets/base",
      "_view_module_version": "1.2.0",
      "_view_name": "LayoutView",
      "align_content": null,
      "align_items": null,
      "align_self": null,
      "border": null,
      "bottom": null,
      "display": null,
      "flex": null,
      "flex_flow": null,
      "grid_area": null,
      "grid_auto_columns": null,
      "grid_auto_flow": null,
      "grid_auto_rows": null,
      "grid_column": null,
      "grid_gap": null,
      "grid_row": null,
      "grid_template_areas": null,
      "grid_template_columns": null,
      "grid_template_rows": null,
      "height": null,
      "justify_content": null,
      "justify_items": null,
      "left": null,
      "margin": null,
      "max_height": null,
      "max_width": null,
      "min_height": null,
      "min_width": null,
      "object_fit": null,
      "object_position": null,
      "order": null,
      "overflow": null,
      "overflow_x": null,
      "overflow_y": null,
      "padding": null,
      "right": null,
      "top": null,
      "visibility": null,
      "width": null
     }
    },
    "3bac3fe851c34a4dbe94ecb4580745fa": {
     "model_module": "@jupyter-widgets/base",
     "model_module_version": "1.2.0",
     "model_name": "LayoutModel",
     "state": {
      "_model_module": "@jupyter-widgets/base",
      "_model_module_version": "1.2.0",
      "_model_name": "LayoutModel",
      "_view_count": null,
      "_view_module": "@jupyter-widgets/base",
      "_view_module_version": "1.2.0",
      "_view_name": "LayoutView",
      "align_content": null,
      "align_items": null,
      "align_self": null,
      "border": null,
      "bottom": null,
      "display": null,
      "flex": null,
      "flex_flow": null,
      "grid_area": null,
      "grid_auto_columns": null,
      "grid_auto_flow": null,
      "grid_auto_rows": null,
      "grid_column": null,
      "grid_gap": null,
      "grid_row": null,
      "grid_template_areas": null,
      "grid_template_columns": null,
      "grid_template_rows": null,
      "height": null,
      "justify_content": null,
      "justify_items": null,
      "left": null,
      "margin": null,
      "max_height": null,
      "max_width": null,
      "min_height": null,
      "min_width": null,
      "object_fit": null,
      "object_position": null,
      "order": null,
      "overflow": null,
      "overflow_x": null,
      "overflow_y": null,
      "padding": null,
      "right": null,
      "top": null,
      "visibility": null,
      "width": null
     }
    },
    "3ffb267a8e0a4b2d9b42cef5a9f1aecc": {
     "model_module": "@jupyter-widgets/controls",
     "model_module_version": "1.5.0",
     "model_name": "ProgressStyleModel",
     "state": {
      "_model_module": "@jupyter-widgets/controls",
      "_model_module_version": "1.5.0",
      "_model_name": "ProgressStyleModel",
      "_view_count": null,
      "_view_module": "@jupyter-widgets/base",
      "_view_module_version": "1.2.0",
      "_view_name": "StyleView",
      "bar_color": null,
      "description_width": ""
     }
    },
    "40a02a97b8d249e2afd01ae22a46ff5d": {
     "model_module": "@jupyter-widgets/controls",
     "model_module_version": "1.5.0",
     "model_name": "HBoxModel",
     "state": {
      "_dom_classes": [],
      "_model_module": "@jupyter-widgets/controls",
      "_model_module_version": "1.5.0",
      "_model_name": "HBoxModel",
      "_view_count": null,
      "_view_module": "@jupyter-widgets/controls",
      "_view_module_version": "1.5.0",
      "_view_name": "HBoxView",
      "box_style": "",
      "children": [
       "IPY_MODEL_af46abe1e35f493ea9bcf760ae517981",
       "IPY_MODEL_9ce96438de614d3095b473d4f581e548",
       "IPY_MODEL_781a041806fd4926a61fc10b984a217a"
      ],
      "layout": "IPY_MODEL_6ea87d598c254ae4a69727419bcaaaa9"
     }
    },
    "4c557714b2ff4ff89cd1549833225599": {
     "model_module": "@jupyter-widgets/controls",
     "model_module_version": "1.5.0",
     "model_name": "HBoxModel",
     "state": {
      "_dom_classes": [],
      "_model_module": "@jupyter-widgets/controls",
      "_model_module_version": "1.5.0",
      "_model_name": "HBoxModel",
      "_view_count": null,
      "_view_module": "@jupyter-widgets/controls",
      "_view_module_version": "1.5.0",
      "_view_name": "HBoxView",
      "box_style": "",
      "children": [
       "IPY_MODEL_5631f9daba63496ab0adaf157b574587",
       "IPY_MODEL_a31c26563f57498f8b02d54c398927dd",
       "IPY_MODEL_bb112bb10fe54242adf0f1e86bbff377"
      ],
      "layout": "IPY_MODEL_2bc739d588c44504a6363b0c2b126534"
     }
    },
    "4da838a7d0c147be8341916641a57852": {
     "model_module": "@jupyter-widgets/controls",
     "model_module_version": "1.5.0",
     "model_name": "DescriptionStyleModel",
     "state": {
      "_model_module": "@jupyter-widgets/controls",
      "_model_module_version": "1.5.0",
      "_model_name": "DescriptionStyleModel",
      "_view_count": null,
      "_view_module": "@jupyter-widgets/base",
      "_view_module_version": "1.2.0",
      "_view_name": "StyleView",
      "description_width": ""
     }
    },
    "5631f9daba63496ab0adaf157b574587": {
     "model_module": "@jupyter-widgets/controls",
     "model_module_version": "1.5.0",
     "model_name": "HTMLModel",
     "state": {
      "_dom_classes": [],
      "_model_module": "@jupyter-widgets/controls",
      "_model_module_version": "1.5.0",
      "_model_name": "HTMLModel",
      "_view_count": null,
      "_view_module": "@jupyter-widgets/controls",
      "_view_module_version": "1.5.0",
      "_view_name": "HTMLView",
      "description": "",
      "description_tooltip": null,
      "layout": "IPY_MODEL_db5c47da72b14a89bc5888561b1c1378",
      "placeholder": "​",
      "style": "IPY_MODEL_4da838a7d0c147be8341916641a57852",
      "value": ""
     }
    },
    "5aaab2fa61a845c9a3952a7b917ac7bc": {
     "model_module": "@jupyter-widgets/base",
     "model_module_version": "1.2.0",
     "model_name": "LayoutModel",
     "state": {
      "_model_module": "@jupyter-widgets/base",
      "_model_module_version": "1.2.0",
      "_model_name": "LayoutModel",
      "_view_count": null,
      "_view_module": "@jupyter-widgets/base",
      "_view_module_version": "1.2.0",
      "_view_name": "LayoutView",
      "align_content": null,
      "align_items": null,
      "align_self": null,
      "border": null,
      "bottom": null,
      "display": null,
      "flex": null,
      "flex_flow": null,
      "grid_area": null,
      "grid_auto_columns": null,
      "grid_auto_flow": null,
      "grid_auto_rows": null,
      "grid_column": null,
      "grid_gap": null,
      "grid_row": null,
      "grid_template_areas": null,
      "grid_template_columns": null,
      "grid_template_rows": null,
      "height": null,
      "justify_content": null,
      "justify_items": null,
      "left": null,
      "margin": null,
      "max_height": null,
      "max_width": null,
      "min_height": null,
      "min_width": null,
      "object_fit": null,
      "object_position": null,
      "order": null,
      "overflow": null,
      "overflow_x": null,
      "overflow_y": null,
      "padding": null,
      "right": null,
      "top": null,
      "visibility": null,
      "width": null
     }
    },
    "6105d07430b744b396dadef520382ee8": {
     "model_module": "@jupyter-widgets/controls",
     "model_module_version": "1.5.0",
     "model_name": "DescriptionStyleModel",
     "state": {
      "_model_module": "@jupyter-widgets/controls",
      "_model_module_version": "1.5.0",
      "_model_name": "DescriptionStyleModel",
      "_view_count": null,
      "_view_module": "@jupyter-widgets/base",
      "_view_module_version": "1.2.0",
      "_view_name": "StyleView",
      "description_width": ""
     }
    },
    "61da5719d6e44db2961db0871b52a520": {
     "model_module": "@jupyter-widgets/base",
     "model_module_version": "1.2.0",
     "model_name": "LayoutModel",
     "state": {
      "_model_module": "@jupyter-widgets/base",
      "_model_module_version": "1.2.0",
      "_model_name": "LayoutModel",
      "_view_count": null,
      "_view_module": "@jupyter-widgets/base",
      "_view_module_version": "1.2.0",
      "_view_name": "LayoutView",
      "align_content": null,
      "align_items": null,
      "align_self": null,
      "border": null,
      "bottom": null,
      "display": null,
      "flex": null,
      "flex_flow": null,
      "grid_area": null,
      "grid_auto_columns": null,
      "grid_auto_flow": null,
      "grid_auto_rows": null,
      "grid_column": null,
      "grid_gap": null,
      "grid_row": null,
      "grid_template_areas": null,
      "grid_template_columns": null,
      "grid_template_rows": null,
      "height": null,
      "justify_content": null,
      "justify_items": null,
      "left": null,
      "margin": null,
      "max_height": null,
      "max_width": null,
      "min_height": null,
      "min_width": null,
      "object_fit": null,
      "object_position": null,
      "order": null,
      "overflow": null,
      "overflow_x": null,
      "overflow_y": null,
      "padding": null,
      "right": null,
      "top": null,
      "visibility": null,
      "width": null
     }
    },
    "6dc85ffa03de4907be743de94cdce349": {
     "model_module": "@jupyter-widgets/controls",
     "model_module_version": "1.5.0",
     "model_name": "HBoxModel",
     "state": {
      "_dom_classes": [],
      "_model_module": "@jupyter-widgets/controls",
      "_model_module_version": "1.5.0",
      "_model_name": "HBoxModel",
      "_view_count": null,
      "_view_module": "@jupyter-widgets/controls",
      "_view_module_version": "1.5.0",
      "_view_name": "HBoxView",
      "box_style": "",
      "children": [
       "IPY_MODEL_dcb0bc059d374d4a9ea260a69abe5156",
       "IPY_MODEL_914e384ece254d5fb6c53fa0f818d8f6",
       "IPY_MODEL_ad94e46a59394139ada81a27e29d49c0"
      ],
      "layout": "IPY_MODEL_5aaab2fa61a845c9a3952a7b917ac7bc"
     }
    },
    "6ea87d598c254ae4a69727419bcaaaa9": {
     "model_module": "@jupyter-widgets/base",
     "model_module_version": "1.2.0",
     "model_name": "LayoutModel",
     "state": {
      "_model_module": "@jupyter-widgets/base",
      "_model_module_version": "1.2.0",
      "_model_name": "LayoutModel",
      "_view_count": null,
      "_view_module": "@jupyter-widgets/base",
      "_view_module_version": "1.2.0",
      "_view_name": "LayoutView",
      "align_content": null,
      "align_items": null,
      "align_self": null,
      "border": null,
      "bottom": null,
      "display": null,
      "flex": null,
      "flex_flow": null,
      "grid_area": null,
      "grid_auto_columns": null,
      "grid_auto_flow": null,
      "grid_auto_rows": null,
      "grid_column": null,
      "grid_gap": null,
      "grid_row": null,
      "grid_template_areas": null,
      "grid_template_columns": null,
      "grid_template_rows": null,
      "height": null,
      "justify_content": null,
      "justify_items": null,
      "left": null,
      "margin": null,
      "max_height": null,
      "max_width": null,
      "min_height": null,
      "min_width": null,
      "object_fit": null,
      "object_position": null,
      "order": null,
      "overflow": null,
      "overflow_x": null,
      "overflow_y": null,
      "padding": null,
      "right": null,
      "top": null,
      "visibility": null,
      "width": null
     }
    },
    "6fe6b583d84d4d3aa1d0908a4e063f1a": {
     "model_module": "@jupyter-widgets/base",
     "model_module_version": "1.2.0",
     "model_name": "LayoutModel",
     "state": {
      "_model_module": "@jupyter-widgets/base",
      "_model_module_version": "1.2.0",
      "_model_name": "LayoutModel",
      "_view_count": null,
      "_view_module": "@jupyter-widgets/base",
      "_view_module_version": "1.2.0",
      "_view_name": "LayoutView",
      "align_content": null,
      "align_items": null,
      "align_self": null,
      "border": null,
      "bottom": null,
      "display": null,
      "flex": null,
      "flex_flow": null,
      "grid_area": null,
      "grid_auto_columns": null,
      "grid_auto_flow": null,
      "grid_auto_rows": null,
      "grid_column": null,
      "grid_gap": null,
      "grid_row": null,
      "grid_template_areas": null,
      "grid_template_columns": null,
      "grid_template_rows": null,
      "height": null,
      "justify_content": null,
      "justify_items": null,
      "left": null,
      "margin": null,
      "max_height": null,
      "max_width": null,
      "min_height": null,
      "min_width": null,
      "object_fit": null,
      "object_position": null,
      "order": null,
      "overflow": null,
      "overflow_x": null,
      "overflow_y": null,
      "padding": null,
      "right": null,
      "top": null,
      "visibility": null,
      "width": null
     }
    },
    "71001c3bb6a34f3d9a9566004100bbff": {
     "model_module": "@jupyter-widgets/controls",
     "model_module_version": "1.5.0",
     "model_name": "DescriptionStyleModel",
     "state": {
      "_model_module": "@jupyter-widgets/controls",
      "_model_module_version": "1.5.0",
      "_model_name": "DescriptionStyleModel",
      "_view_count": null,
      "_view_module": "@jupyter-widgets/base",
      "_view_module_version": "1.2.0",
      "_view_name": "StyleView",
      "description_width": ""
     }
    },
    "75ea03bc162b4fabb049556d3b5c4344": {
     "model_module": "@jupyter-widgets/base",
     "model_module_version": "1.2.0",
     "model_name": "LayoutModel",
     "state": {
      "_model_module": "@jupyter-widgets/base",
      "_model_module_version": "1.2.0",
      "_model_name": "LayoutModel",
      "_view_count": null,
      "_view_module": "@jupyter-widgets/base",
      "_view_module_version": "1.2.0",
      "_view_name": "LayoutView",
      "align_content": null,
      "align_items": null,
      "align_self": null,
      "border": null,
      "bottom": null,
      "display": null,
      "flex": null,
      "flex_flow": null,
      "grid_area": null,
      "grid_auto_columns": null,
      "grid_auto_flow": null,
      "grid_auto_rows": null,
      "grid_column": null,
      "grid_gap": null,
      "grid_row": null,
      "grid_template_areas": null,
      "grid_template_columns": null,
      "grid_template_rows": null,
      "height": null,
      "justify_content": null,
      "justify_items": null,
      "left": null,
      "margin": null,
      "max_height": null,
      "max_width": null,
      "min_height": null,
      "min_width": null,
      "object_fit": null,
      "object_position": null,
      "order": null,
      "overflow": null,
      "overflow_x": null,
      "overflow_y": null,
      "padding": null,
      "right": null,
      "top": null,
      "visibility": null,
      "width": null
     }
    },
    "781a041806fd4926a61fc10b984a217a": {
     "model_module": "@jupyter-widgets/controls",
     "model_module_version": "1.5.0",
     "model_name": "HTMLModel",
     "state": {
      "_dom_classes": [],
      "_model_module": "@jupyter-widgets/controls",
      "_model_module_version": "1.5.0",
      "_model_name": "HTMLModel",
      "_view_count": null,
      "_view_module": "@jupyter-widgets/controls",
      "_view_module_version": "1.5.0",
      "_view_name": "HTMLView",
      "description": "",
      "description_tooltip": null,
      "layout": "IPY_MODEL_61da5719d6e44db2961db0871b52a520",
      "placeholder": "​",
      "style": "IPY_MODEL_a73adfc139c44df5b7ee645e5dab6598",
      "value": " 9913344/? [00:00&lt;00:00, 16541473.27it/s]"
     }
    },
    "8ed56a64626b4eb9af907ce7c721630b": {
     "model_module": "@jupyter-widgets/controls",
     "model_module_version": "1.5.0",
     "model_name": "DescriptionStyleModel",
     "state": {
      "_model_module": "@jupyter-widgets/controls",
      "_model_module_version": "1.5.0",
      "_model_name": "DescriptionStyleModel",
      "_view_count": null,
      "_view_module": "@jupyter-widgets/base",
      "_view_module_version": "1.2.0",
      "_view_name": "StyleView",
      "description_width": ""
     }
    },
    "914e384ece254d5fb6c53fa0f818d8f6": {
     "model_module": "@jupyter-widgets/controls",
     "model_module_version": "1.5.0",
     "model_name": "FloatProgressModel",
     "state": {
      "_dom_classes": [],
      "_model_module": "@jupyter-widgets/controls",
      "_model_module_version": "1.5.0",
      "_model_name": "FloatProgressModel",
      "_view_count": null,
      "_view_module": "@jupyter-widgets/controls",
      "_view_module_version": "1.5.0",
      "_view_name": "ProgressView",
      "bar_style": "success",
      "description": "",
      "description_tooltip": null,
      "layout": "IPY_MODEL_3ad04b4354544e0ab3dbe22e5842be64",
      "max": 1648877,
      "min": 0,
      "orientation": "horizontal",
      "style": "IPY_MODEL_9731033f71f44bd7b44703c62e6bbd38",
      "value": 1648877
     }
    },
    "9731033f71f44bd7b44703c62e6bbd38": {
     "model_module": "@jupyter-widgets/controls",
     "model_module_version": "1.5.0",
     "model_name": "ProgressStyleModel",
     "state": {
      "_model_module": "@jupyter-widgets/controls",
      "_model_module_version": "1.5.0",
      "_model_name": "ProgressStyleModel",
      "_view_count": null,
      "_view_module": "@jupyter-widgets/base",
      "_view_module_version": "1.2.0",
      "_view_name": "StyleView",
      "bar_color": null,
      "description_width": ""
     }
    },
    "9ce96438de614d3095b473d4f581e548": {
     "model_module": "@jupyter-widgets/controls",
     "model_module_version": "1.5.0",
     "model_name": "FloatProgressModel",
     "state": {
      "_dom_classes": [],
      "_model_module": "@jupyter-widgets/controls",
      "_model_module_version": "1.5.0",
      "_model_name": "FloatProgressModel",
      "_view_count": null,
      "_view_module": "@jupyter-widgets/controls",
      "_view_module_version": "1.5.0",
      "_view_name": "ProgressView",
      "bar_style": "success",
      "description": "",
      "description_tooltip": null,
      "layout": "IPY_MODEL_d409959ce2de4da6b5208308df147c36",
      "max": 9912422,
      "min": 0,
      "orientation": "horizontal",
      "style": "IPY_MODEL_3ffb267a8e0a4b2d9b42cef5a9f1aecc",
      "value": 9912422
     }
    },
    "a31c26563f57498f8b02d54c398927dd": {
     "model_module": "@jupyter-widgets/controls",
     "model_module_version": "1.5.0",
     "model_name": "FloatProgressModel",
     "state": {
      "_dom_classes": [],
      "_model_module": "@jupyter-widgets/controls",
      "_model_module_version": "1.5.0",
      "_model_name": "FloatProgressModel",
      "_view_count": null,
      "_view_module": "@jupyter-widgets/controls",
      "_view_module_version": "1.5.0",
      "_view_name": "ProgressView",
      "bar_style": "success",
      "description": "",
      "description_tooltip": null,
      "layout": "IPY_MODEL_37d7387c2cc2407587ec7040590a051b",
      "max": 28881,
      "min": 0,
      "orientation": "horizontal",
      "style": "IPY_MODEL_29a92c3c8ebe4a9f93739858b6b886d5",
      "value": 28881
     }
    },
    "a73adfc139c44df5b7ee645e5dab6598": {
     "model_module": "@jupyter-widgets/controls",
     "model_module_version": "1.5.0",
     "model_name": "DescriptionStyleModel",
     "state": {
      "_model_module": "@jupyter-widgets/controls",
      "_model_module_version": "1.5.0",
      "_model_name": "DescriptionStyleModel",
      "_view_count": null,
      "_view_module": "@jupyter-widgets/base",
      "_view_module_version": "1.2.0",
      "_view_name": "StyleView",
      "description_width": ""
     }
    },
    "ad94e46a59394139ada81a27e29d49c0": {
     "model_module": "@jupyter-widgets/controls",
     "model_module_version": "1.5.0",
     "model_name": "HTMLModel",
     "state": {
      "_dom_classes": [],
      "_model_module": "@jupyter-widgets/controls",
      "_model_module_version": "1.5.0",
      "_model_name": "HTMLModel",
      "_view_count": null,
      "_view_module": "@jupyter-widgets/controls",
      "_view_module_version": "1.5.0",
      "_view_name": "HTMLView",
      "description": "",
      "description_tooltip": null,
      "layout": "IPY_MODEL_6fe6b583d84d4d3aa1d0908a4e063f1a",
      "placeholder": "​",
      "style": "IPY_MODEL_2d023aafa5bb4a94b06330754668397c",
      "value": " 1649664/? [00:00&lt;00:00, 3381261.14it/s]"
     }
    },
    "af46abe1e35f493ea9bcf760ae517981": {
     "model_module": "@jupyter-widgets/controls",
     "model_module_version": "1.5.0",
     "model_name": "HTMLModel",
     "state": {
      "_dom_classes": [],
      "_model_module": "@jupyter-widgets/controls",
      "_model_module_version": "1.5.0",
      "_model_name": "HTMLModel",
      "_view_count": null,
      "_view_module": "@jupyter-widgets/controls",
      "_view_module_version": "1.5.0",
      "_view_name": "HTMLView",
      "description": "",
      "description_tooltip": null,
      "layout": "IPY_MODEL_28165ee9d71349d18b31573dd0db4871",
      "placeholder": "​",
      "style": "IPY_MODEL_6105d07430b744b396dadef520382ee8",
      "value": ""
     }
    },
    "b52a7145cecc49eb935abb4ce7d23da7": {
     "model_module": "@jupyter-widgets/controls",
     "model_module_version": "1.5.0",
     "model_name": "HBoxModel",
     "state": {
      "_dom_classes": [],
      "_model_module": "@jupyter-widgets/controls",
      "_model_module_version": "1.5.0",
      "_model_name": "HBoxModel",
      "_view_count": null,
      "_view_module": "@jupyter-widgets/controls",
      "_view_module_version": "1.5.0",
      "_view_name": "HBoxView",
      "box_style": "",
      "children": [
       "IPY_MODEL_32f26bde2daf40378a3f30aba08f090e",
       "IPY_MODEL_dd28280894a0468a8576ee905b1a54a2",
       "IPY_MODEL_bf3d293973a747b89ebe721e15bc7190"
      ],
      "layout": "IPY_MODEL_b63527a2ce6e4492bb48c788ad57442a"
     }
    },
    "b63527a2ce6e4492bb48c788ad57442a": {
     "model_module": "@jupyter-widgets/base",
     "model_module_version": "1.2.0",
     "model_name": "LayoutModel",
     "state": {
      "_model_module": "@jupyter-widgets/base",
      "_model_module_version": "1.2.0",
      "_model_name": "LayoutModel",
      "_view_count": null,
      "_view_module": "@jupyter-widgets/base",
      "_view_module_version": "1.2.0",
      "_view_name": "LayoutView",
      "align_content": null,
      "align_items": null,
      "align_self": null,
      "border": null,
      "bottom": null,
      "display": null,
      "flex": null,
      "flex_flow": null,
      "grid_area": null,
      "grid_auto_columns": null,
      "grid_auto_flow": null,
      "grid_auto_rows": null,
      "grid_column": null,
      "grid_gap": null,
      "grid_row": null,
      "grid_template_areas": null,
      "grid_template_columns": null,
      "grid_template_rows": null,
      "height": null,
      "justify_content": null,
      "justify_items": null,
      "left": null,
      "margin": null,
      "max_height": null,
      "max_width": null,
      "min_height": null,
      "min_width": null,
      "object_fit": null,
      "object_position": null,
      "order": null,
      "overflow": null,
      "overflow_x": null,
      "overflow_y": null,
      "padding": null,
      "right": null,
      "top": null,
      "visibility": null,
      "width": null
     }
    },
    "b948f945473d40788b560ed6df6b6d3f": {
     "model_module": "@jupyter-widgets/controls",
     "model_module_version": "1.5.0",
     "model_name": "DescriptionStyleModel",
     "state": {
      "_model_module": "@jupyter-widgets/controls",
      "_model_module_version": "1.5.0",
      "_model_name": "DescriptionStyleModel",
      "_view_count": null,
      "_view_module": "@jupyter-widgets/base",
      "_view_module_version": "1.2.0",
      "_view_name": "StyleView",
      "description_width": ""
     }
    },
    "bb112bb10fe54242adf0f1e86bbff377": {
     "model_module": "@jupyter-widgets/controls",
     "model_module_version": "1.5.0",
     "model_name": "HTMLModel",
     "state": {
      "_dom_classes": [],
      "_model_module": "@jupyter-widgets/controls",
      "_model_module_version": "1.5.0",
      "_model_name": "HTMLModel",
      "_view_count": null,
      "_view_module": "@jupyter-widgets/controls",
      "_view_module_version": "1.5.0",
      "_view_name": "HTMLView",
      "description": "",
      "description_tooltip": null,
      "layout": "IPY_MODEL_0ea68f74683b4eee8f222adf4f861a76",
      "placeholder": "​",
      "style": "IPY_MODEL_eb0f08c4179f4a3aa7076e68722389d1",
      "value": " 29696/? [00:00&lt;00:00, 691993.86it/s]"
     }
    },
    "bf3d293973a747b89ebe721e15bc7190": {
     "model_module": "@jupyter-widgets/controls",
     "model_module_version": "1.5.0",
     "model_name": "HTMLModel",
     "state": {
      "_dom_classes": [],
      "_model_module": "@jupyter-widgets/controls",
      "_model_module_version": "1.5.0",
      "_model_name": "HTMLModel",
      "_view_count": null,
      "_view_module": "@jupyter-widgets/controls",
      "_view_module_version": "1.5.0",
      "_view_name": "HTMLView",
      "description": "",
      "description_tooltip": null,
      "layout": "IPY_MODEL_75ea03bc162b4fabb049556d3b5c4344",
      "placeholder": "​",
      "style": "IPY_MODEL_b948f945473d40788b560ed6df6b6d3f",
      "value": " 5120/? [00:00&lt;00:00, 100593.67it/s]"
     }
    },
    "cee438dd25a04011b8f5cf5774b3d9db": {
     "model_module": "@jupyter-widgets/base",
     "model_module_version": "1.2.0",
     "model_name": "LayoutModel",
     "state": {
      "_model_module": "@jupyter-widgets/base",
      "_model_module_version": "1.2.0",
      "_model_name": "LayoutModel",
      "_view_count": null,
      "_view_module": "@jupyter-widgets/base",
      "_view_module_version": "1.2.0",
      "_view_name": "LayoutView",
      "align_content": null,
      "align_items": null,
      "align_self": null,
      "border": null,
      "bottom": null,
      "display": null,
      "flex": null,
      "flex_flow": null,
      "grid_area": null,
      "grid_auto_columns": null,
      "grid_auto_flow": null,
      "grid_auto_rows": null,
      "grid_column": null,
      "grid_gap": null,
      "grid_row": null,
      "grid_template_areas": null,
      "grid_template_columns": null,
      "grid_template_rows": null,
      "height": null,
      "justify_content": null,
      "justify_items": null,
      "left": null,
      "margin": null,
      "max_height": null,
      "max_width": null,
      "min_height": null,
      "min_width": null,
      "object_fit": null,
      "object_position": null,
      "order": null,
      "overflow": null,
      "overflow_x": null,
      "overflow_y": null,
      "padding": null,
      "right": null,
      "top": null,
      "visibility": null,
      "width": null
     }
    },
    "d409959ce2de4da6b5208308df147c36": {
     "model_module": "@jupyter-widgets/base",
     "model_module_version": "1.2.0",
     "model_name": "LayoutModel",
     "state": {
      "_model_module": "@jupyter-widgets/base",
      "_model_module_version": "1.2.0",
      "_model_name": "LayoutModel",
      "_view_count": null,
      "_view_module": "@jupyter-widgets/base",
      "_view_module_version": "1.2.0",
      "_view_name": "LayoutView",
      "align_content": null,
      "align_items": null,
      "align_self": null,
      "border": null,
      "bottom": null,
      "display": null,
      "flex": null,
      "flex_flow": null,
      "grid_area": null,
      "grid_auto_columns": null,
      "grid_auto_flow": null,
      "grid_auto_rows": null,
      "grid_column": null,
      "grid_gap": null,
      "grid_row": null,
      "grid_template_areas": null,
      "grid_template_columns": null,
      "grid_template_rows": null,
      "height": null,
      "justify_content": null,
      "justify_items": null,
      "left": null,
      "margin": null,
      "max_height": null,
      "max_width": null,
      "min_height": null,
      "min_width": null,
      "object_fit": null,
      "object_position": null,
      "order": null,
      "overflow": null,
      "overflow_x": null,
      "overflow_y": null,
      "padding": null,
      "right": null,
      "top": null,
      "visibility": null,
      "width": null
     }
    },
    "db5c47da72b14a89bc5888561b1c1378": {
     "model_module": "@jupyter-widgets/base",
     "model_module_version": "1.2.0",
     "model_name": "LayoutModel",
     "state": {
      "_model_module": "@jupyter-widgets/base",
      "_model_module_version": "1.2.0",
      "_model_name": "LayoutModel",
      "_view_count": null,
      "_view_module": "@jupyter-widgets/base",
      "_view_module_version": "1.2.0",
      "_view_name": "LayoutView",
      "align_content": null,
      "align_items": null,
      "align_self": null,
      "border": null,
      "bottom": null,
      "display": null,
      "flex": null,
      "flex_flow": null,
      "grid_area": null,
      "grid_auto_columns": null,
      "grid_auto_flow": null,
      "grid_auto_rows": null,
      "grid_column": null,
      "grid_gap": null,
      "grid_row": null,
      "grid_template_areas": null,
      "grid_template_columns": null,
      "grid_template_rows": null,
      "height": null,
      "justify_content": null,
      "justify_items": null,
      "left": null,
      "margin": null,
      "max_height": null,
      "max_width": null,
      "min_height": null,
      "min_width": null,
      "object_fit": null,
      "object_position": null,
      "order": null,
      "overflow": null,
      "overflow_x": null,
      "overflow_y": null,
      "padding": null,
      "right": null,
      "top": null,
      "visibility": null,
      "width": null
     }
    },
    "dcb0bc059d374d4a9ea260a69abe5156": {
     "model_module": "@jupyter-widgets/controls",
     "model_module_version": "1.5.0",
     "model_name": "HTMLModel",
     "state": {
      "_dom_classes": [],
      "_model_module": "@jupyter-widgets/controls",
      "_model_module_version": "1.5.0",
      "_model_name": "HTMLModel",
      "_view_count": null,
      "_view_module": "@jupyter-widgets/controls",
      "_view_module_version": "1.5.0",
      "_view_name": "HTMLView",
      "description": "",
      "description_tooltip": null,
      "layout": "IPY_MODEL_3bac3fe851c34a4dbe94ecb4580745fa",
      "placeholder": "​",
      "style": "IPY_MODEL_8ed56a64626b4eb9af907ce7c721630b",
      "value": ""
     }
    },
    "dd28280894a0468a8576ee905b1a54a2": {
     "model_module": "@jupyter-widgets/controls",
     "model_module_version": "1.5.0",
     "model_name": "FloatProgressModel",
     "state": {
      "_dom_classes": [],
      "_model_module": "@jupyter-widgets/controls",
      "_model_module_version": "1.5.0",
      "_model_name": "FloatProgressModel",
      "_view_count": null,
      "_view_module": "@jupyter-widgets/controls",
      "_view_module_version": "1.5.0",
      "_view_name": "ProgressView",
      "bar_style": "success",
      "description": "",
      "description_tooltip": null,
      "layout": "IPY_MODEL_ea462623a96545b5a8b7f9c94dd2f3e7",
      "max": 4542,
      "min": 0,
      "orientation": "horizontal",
      "style": "IPY_MODEL_f52e9975da5d4fab8eaf310a6509d69a",
      "value": 4542
     }
    },
    "ea462623a96545b5a8b7f9c94dd2f3e7": {
     "model_module": "@jupyter-widgets/base",
     "model_module_version": "1.2.0",
     "model_name": "LayoutModel",
     "state": {
      "_model_module": "@jupyter-widgets/base",
      "_model_module_version": "1.2.0",
      "_model_name": "LayoutModel",
      "_view_count": null,
      "_view_module": "@jupyter-widgets/base",
      "_view_module_version": "1.2.0",
      "_view_name": "LayoutView",
      "align_content": null,
      "align_items": null,
      "align_self": null,
      "border": null,
      "bottom": null,
      "display": null,
      "flex": null,
      "flex_flow": null,
      "grid_area": null,
      "grid_auto_columns": null,
      "grid_auto_flow": null,
      "grid_auto_rows": null,
      "grid_column": null,
      "grid_gap": null,
      "grid_row": null,
      "grid_template_areas": null,
      "grid_template_columns": null,
      "grid_template_rows": null,
      "height": null,
      "justify_content": null,
      "justify_items": null,
      "left": null,
      "margin": null,
      "max_height": null,
      "max_width": null,
      "min_height": null,
      "min_width": null,
      "object_fit": null,
      "object_position": null,
      "order": null,
      "overflow": null,
      "overflow_x": null,
      "overflow_y": null,
      "padding": null,
      "right": null,
      "top": null,
      "visibility": null,
      "width": null
     }
    },
    "eb0f08c4179f4a3aa7076e68722389d1": {
     "model_module": "@jupyter-widgets/controls",
     "model_module_version": "1.5.0",
     "model_name": "DescriptionStyleModel",
     "state": {
      "_model_module": "@jupyter-widgets/controls",
      "_model_module_version": "1.5.0",
      "_model_name": "DescriptionStyleModel",
      "_view_count": null,
      "_view_module": "@jupyter-widgets/base",
      "_view_module_version": "1.2.0",
      "_view_name": "StyleView",
      "description_width": ""
     }
    },
    "f52e9975da5d4fab8eaf310a6509d69a": {
     "model_module": "@jupyter-widgets/controls",
     "model_module_version": "1.5.0",
     "model_name": "ProgressStyleModel",
     "state": {
      "_model_module": "@jupyter-widgets/controls",
      "_model_module_version": "1.5.0",
      "_model_name": "ProgressStyleModel",
      "_view_count": null,
      "_view_module": "@jupyter-widgets/base",
      "_view_module_version": "1.2.0",
      "_view_name": "StyleView",
      "bar_color": null,
      "description_width": ""
     }
    }
   }
  }
 },
 "nbformat": 4,
 "nbformat_minor": 4
}
